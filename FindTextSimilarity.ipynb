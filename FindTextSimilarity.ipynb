{
 "cells": [
  {
   "cell_type": "code",
   "execution_count": 8,
   "id": "c136a4c3",
   "metadata": {},
   "outputs": [],
   "source": [
    "from keras.layers import Input, LSTM, Lambda, Dense,Reshape, Embedding\n",
    "from keras import backend as K\n",
    "from keras.models import Model\n",
    "import numpy as np\n",
    "from nltk.tokenize import word_tokenize\n",
    "from keras_preprocessing.text import Tokenizer\n",
    "from keras_preprocessing.sequence import pad_sequences"
   ]
  },
  {
   "cell_type": "code",
   "execution_count": 15,
   "id": "a8249e5b",
   "metadata": {},
   "outputs": [],
   "source": [
    "# Define the input layers for the two strings\n",
    "string1 = \"Read email\"\n",
    "string2 = \"Read mail\"\n",
    "similarity_score = 1\n",
    "\n",
    "# Tokenize the strings\n",
    "tokenizer = Tokenizer()\n",
    "tokenizer.fit_on_texts([string1, string2])\n",
    "\n",
    "# Convert the strings to sequences of integers\n",
    "string1_seq = tokenizer.texts_to_sequences([string1])[0]\n",
    "string2_seq = tokenizer.texts_to_sequences([string2])[0]\n",
    "\n",
    "max_length = max(len(string1_seq), len(string2_seq))\n",
    "\n",
    "# Pad the sequences to the same length\n",
    "string1_seq = pad_sequences([string1_seq], maxlen=max_length, padding='post')\n",
    "string2_seq = pad_sequences([string2_seq], maxlen=max_length, padding='post')\n"
   ]
  },
  {
   "cell_type": "code",
   "execution_count": 16,
   "id": "b00a75f4",
   "metadata": {},
   "outputs": [],
   "source": [
    "# Define the input layers for the two texts\n",
    "text1_input = Input(shape=(max_length,))\n",
    "text2_input = Input(shape=(max_length,))\n",
    "embedding_layer = Embedding(4, 100, input_length=50)\n"
   ]
  },
  {
   "cell_type": "code",
   "execution_count": 17,
   "id": "d72cec50",
   "metadata": {},
   "outputs": [],
   "source": [
    "encoded_text1 = embedding_layer(text1_input)\n",
    "encoded_text2 = embedding_layer(text2_input)\n",
    "\n",
    "# Define the LSTM layer to process the texts\n",
    "shared_lstm = LSTM(64)\n",
    "\n",
    "# Process the two texts with the shared LSTM layer\n",
    "encoded_text1 = shared_lstm(encoded_text1)\n",
    "encoded_text2 = shared_lstm(encoded_text2)"
   ]
  },
  {
   "cell_type": "code",
   "execution_count": 18,
   "id": "c678c353",
   "metadata": {},
   "outputs": [],
   "source": [
    "# Define the Lambda layer to calculate the distance between the outputs\n",
    "distance = Lambda(lambda x:  K.abs(x[0] - x[1]))([encoded_text1, encoded_text2])\n"
   ]
  },
  {
   "cell_type": "code",
   "execution_count": 21,
   "id": "572cc724",
   "metadata": {},
   "outputs": [
    {
     "name": "stdout",
     "output_type": "stream",
     "text": [
      "Epoch 1/10\n",
      "1/1 [==============================] - 7s 7s/step - loss: 0.6826\n",
      "Epoch 2/10\n",
      "1/1 [==============================] - 0s 12ms/step - loss: 0.6746\n",
      "Epoch 3/10\n",
      "1/1 [==============================] - 0s 14ms/step - loss: 0.6666\n",
      "Epoch 4/10\n",
      "1/1 [==============================] - 0s 12ms/step - loss: 0.6586\n",
      "Epoch 5/10\n",
      "1/1 [==============================] - 0s 14ms/step - loss: 0.6506\n",
      "Epoch 6/10\n",
      "1/1 [==============================] - 0s 12ms/step - loss: 0.6426\n",
      "Epoch 7/10\n",
      "1/1 [==============================] - 0s 12ms/step - loss: 0.6348\n",
      "Epoch 8/10\n",
      "1/1 [==============================] - 0s 12ms/step - loss: 0.6273\n",
      "Epoch 9/10\n",
      "1/1 [==============================] - 0s 12ms/step - loss: 0.6196\n",
      "Epoch 10/10\n",
      "1/1 [==============================] - 0s 13ms/step - loss: 0.6120\n"
     ]
    },
    {
     "data": {
      "text/plain": [
       "<keras.callbacks.History at 0x299cfbf68c0>"
      ]
     },
     "execution_count": 21,
     "metadata": {},
     "output_type": "execute_result"
    }
   ],
   "source": [
    "# Define the output layer\n",
    "output = Dense(1, activation='sigmoid')(distance)\n",
    "\n",
    "# Create the Siamese model\n",
    "model = Model([text1_input, text2_input], output)\n",
    "\n",
    "# Compile the model\n",
    "model.compile(loss='binary_crossentropy', optimizer='adam')\n",
    "# Fit the model on the tokenized sequences\n",
    "model.fit( [string1_seq, string2_seq], np.array([similarity_score]), epochs=10)"
   ]
  },
  {
   "cell_type": "code",
   "execution_count": 35,
   "id": "a99a3b21",
   "metadata": {
    "scrolled": false
   },
   "outputs": [
    {
     "name": "stdout",
     "output_type": "stream",
     "text": [
      "1/1 [==============================] - 0s 22ms/step\n",
      "Similarity Score:  [0.5024927]\n"
     ]
    }
   ],
   "source": [
    "# Define a new pair of strings\n",
    "string1 = \"Read email\"\n",
    "string2 = \"Read mail\"\n",
    "\n",
    "# Tokenize the new strings and pad them to the same length\n",
    "new_string1_seq = tokenizer.texts_to_sequences([new_string1])[0]\n",
    "new_string1_seq = pad_sequences([new_string1_seq], maxlen=max_length, padding='post')\n",
    "new_string2_seq = tokenizer.texts_to_sequences([new_string2])[0]\n",
    "new_string2_seq = pad_sequences([new_string2_seq], maxlen=max_length, padding='post')\n",
    "\n",
    "# Use the model to predict the similarity score for the new pair of strings\n",
    "similarity_score = model.predict([new_string1_seq, new_string2_seq])[0]\n",
    "print(\"Similarity Score: \", similarity_score)"
   ]
  },
  {
   "cell_type": "code",
   "execution_count": null,
   "id": "514eeea9",
   "metadata": {},
   "outputs": [],
   "source": []
  },
  {
   "cell_type": "code",
   "execution_count": null,
   "id": "7c93ab71",
   "metadata": {},
   "outputs": [],
   "source": []
  },
  {
   "cell_type": "code",
   "execution_count": null,
   "id": "aa0cb6b9",
   "metadata": {},
   "outputs": [],
   "source": []
  },
  {
   "cell_type": "code",
   "execution_count": null,
   "id": "4b2f2ee3",
   "metadata": {},
   "outputs": [],
   "source": []
  },
  {
   "cell_type": "code",
   "execution_count": null,
   "id": "579d88d2",
   "metadata": {},
   "outputs": [],
   "source": []
  },
  {
   "cell_type": "code",
   "execution_count": null,
   "id": "14dea158",
   "metadata": {},
   "outputs": [],
   "source": []
  },
  {
   "cell_type": "code",
   "execution_count": null,
   "id": "959b4a3f",
   "metadata": {},
   "outputs": [],
   "source": []
  }
 ],
 "metadata": {
  "kernelspec": {
   "display_name": "Python 3 (ipykernel)",
   "language": "python",
   "name": "python3"
  },
  "language_info": {
   "codemirror_mode": {
    "name": "ipython",
    "version": 3
   },
   "file_extension": ".py",
   "mimetype": "text/x-python",
   "name": "python",
   "nbconvert_exporter": "python",
   "pygments_lexer": "ipython3",
   "version": "3.10.7"
  }
 },
 "nbformat": 4,
 "nbformat_minor": 5
}
